{
 "cells": [
  {
   "cell_type": "code",
   "execution_count": 28,
   "metadata": {},
   "outputs": [],
   "source": [
    "lst = [ 0x00, 0x00, 0x00, 0x00, 0x02, 0x00, 0x00, 0x00, 0x0e, 0x00, 0x00, 0x00, 0x00, 0x01, 0x00, 0x00, 0x00, 0x00, 0x00, 0x00, 0x02, 0x00, 0x00, 0x00, 0x05, 0x00, 0x00, 0x00, 0x00, 0x01, 0x00, 0x00, 0x00, 0x00, 0x00, 0x00, 0x02, 0x00, 0x00, 0x00, 0x01, 0x00, 0x00, 0x00, 0x00, 0x01, 0x00, 0x00, 0x00, 0x00, 0x00, 0x00, 0x04, 0x00, 0x00, 0x00, 0x02, 0x00, 0x00, 0x00, 0x10, 0x01, 0x00, 0x00, 0x00, 0x00, 0x00, 0x00, 0x04, 0x00, 0x00, 0x00, 0x00, 0x00, 0x00, 0x00, 0xe0, 0x00, 0x00, 0x00, 0x00, 0x00, 0x00, 0x00, 0x04, 0x00, 0x00, 0x00, 0x00, 0x00, 0x00, 0x00, 0x10, 0x01, 0x00, 0x00, 0x00, 0x00, 0x00, 0x00, 0x04, 0x00, 0x00, 0x00, 0x00, 0x00, 0x00, 0x00, 0x20, 0x01, 0x00, 0x00, 0x00, 0x00, 0x00, 0x00, 0x04, 0x00, 0x00, 0x00, 0x00, 0x00, 0x00, 0x00, 0x30, 0x01, 0x00, 0x00 ]\n"
   ]
  },
  {
   "cell_type": "code",
   "execution_count": 29,
   "metadata": {},
   "outputs": [],
   "source": [
    "import ctypes"
   ]
  },
  {
   "cell_type": "code",
   "execution_count": 30,
   "metadata": {},
   "outputs": [],
   "source": [
    "aint = []\n",
    "for i in range(0, len(lst), 4):\n",
    "    aint.append(lst[i] + (lst[i+1] << 8) + (lst[i+2] << 16) + (lst[i+3] << 24))"
   ]
  },
  {
   "cell_type": "code",
   "execution_count": 7,
   "metadata": {},
   "outputs": [
    {
     "name": "stdout",
     "output_type": "stream",
     "text": [
      "16.0\n"
     ]
    }
   ],
   "source": [
    "print(len(aint) / 7)"
   ]
  },
  {
   "cell_type": "code",
   "execution_count": 30,
   "metadata": {},
   "outputs": [],
   "source": [
    "import numpy as np"
   ]
  },
  {
   "cell_type": "code",
   "execution_count": 32,
   "metadata": {},
   "outputs": [],
   "source": [
    "pint = [ -0x100000000 + i if i & 0x80000000 else i for i in aint]\n",
    "arr = np.array(pint)"
   ]
  },
  {
   "cell_type": "code",
   "execution_count": 33,
   "metadata": {},
   "outputs": [
    {
     "data": {
      "text/plain": [
       "array([[  0,   2,  14, 256],\n",
       "       [  0,   2,   5, 256],\n",
       "       [  0,   2,   1, 256],\n",
       "       [  0,   4,   2, 272],\n",
       "       [  0,   4,   0, 224],\n",
       "       [  0,   4,   0, 272],\n",
       "       [  0,   4,   0, 288],\n",
       "       [  0,   4,   0, 304]])"
      ]
     },
     "execution_count": 33,
     "metadata": {},
     "output_type": "execute_result"
    }
   ],
   "source": [
    "arr.reshape(8, 4)"
   ]
  },
  {
   "cell_type": "code",
   "execution_count": 22,
   "metadata": {},
   "outputs": [
    {
     "data": {
      "text/plain": [
       "array([-16, -13, -10,  -8,  -5,  -2,   0,   2,   5,   7,   9,  11,  14,\n",
       "        18])"
      ]
     },
     "execution_count": 22,
     "metadata": {},
     "output_type": "execute_result"
    }
   ],
   "source": [
    "arr"
   ]
  },
  {
   "cell_type": "code",
   "execution_count": 77,
   "metadata": {},
   "outputs": [],
   "source": [
    " channel_div_table = [0 for i in range(0, 21)]\n",
    " channel_cnt_table = [0 for i in range(0, 21)]\n",
    " channel_cnt_range = [0 for i in range(0,3)]\n",
    " rx_notch_para = [[0,0] for i in range(0, 14)]"
   ]
  },
  {
   "cell_type": "code",
   "execution_count": 78,
   "metadata": {},
   "outputs": [],
   "source": [
    "def get_array(freq):\n",
    "    global channel_div_table, channel_cnt_table, channel_cnt_range, rx_notch_para, fcal_div\n",
    "    channel_div_table = [hex(i) for i in channel_div_table]\n",
    "    channel_cnt_table = [hex(i) for i in channel_cnt_table]\n",
    "    channel_cnt_range = [hex(i) for i in channel_cnt_range]\n",
    "    rx_notch_para1 = [\"{\" + f\"{str(i[0])}, {str(i[1])}\" + \"}\" for i in rx_notch_para]\n",
    "    print(f\"static uint32_t channel_div_table_{freq}[21] = \"+ \"{\")\n",
    "    print(\"    \" + \", \".join(channel_div_table))\n",
    "    print(\"};\")\n",
    "    \n",
    "    print(f\"static uint16_t channel_cnt_table_{freq}[21] = \" + \"{\")\n",
    "    print(\"    \" + \", \".join(channel_cnt_table))\n",
    "    print(\"};\")\n",
    "\n",
    "    print(f\"static uint16_t channel_cnt_range_{freq}[21] = \" + \"{\")\n",
    "    print(\"    \" + \", \".join(channel_cnt_range))\n",
    "    print(\"};\")\n",
    "    \n",
    "    print(f\"static int32_t rx_notch_para_{freq}[14][2] = \"+ \"{\")\n",
    "    print(\"    \" + \", \".join(rx_notch_para1))\n",
    "    print(\"};\")\n",
    "\n",
    "    print(f\"static uint16_t fcal_div_{freq} = {fcal_div};\")"
   ]
  },
  {
   "cell_type": "code",
   "execution_count": 87,
   "metadata": {},
   "outputs": [],
   "source": [
    "\n",
    "        channel_div_table[0] =  0xF690690;\n",
    "        channel_div_table[1] =  0xF6F96F9;\n",
    "        channel_div_table[2] =  0xF762762;\n",
    "        channel_div_table[3] =  0xF7CB7CB;\n",
    "        channel_div_table[4] =  0xF834835;\n",
    "        channel_div_table[5] =  0xF89D89E;\n",
    "        channel_div_table[6] =  0xF906907;\n",
    "        channel_div_table[7] =  0xF96F970;\n",
    "        channel_div_table[8] =  0xF9D89D9;\n",
    "        channel_div_table[9] =  0xFA41A42;\n",
    "        channel_div_table[10] = 0xFAAAAAB;\n",
    "        channel_div_table[11] = 0xFB13B14;\n",
    "        channel_div_table[12] = 0xFB7CB7D;\n",
    "        channel_div_table[13] = 0xFBE5BE6;\n",
    "        channel_div_table[14] = 0xFC4EC4F;\n",
    "        channel_div_table[15] = 0xFCB7CB8;\n",
    "        channel_div_table[16] = 0xFD20D21;\n",
    "        channel_div_table[17] = 0xFD89D8A;\n",
    "        channel_div_table[18] = 0xFDF2DF3;\n",
    "        channel_div_table[19] = 0xFE5BE5C;\n",
    "        channel_div_table[20] = 0xFEC4EC5;\n",
    "        \n",
    "        channel_cnt_table[0] =  0xA6ED;\n",
    "        channel_cnt_table[1] =  0xA734;\n",
    "        channel_cnt_table[2] =  0xA77B;\n",
    "        channel_cnt_table[3] =  0xA7C2;\n",
    "        channel_cnt_table[4] =  0xA809;\n",
    "        channel_cnt_table[5] =  0xA850;\n",
    "        channel_cnt_table[6] =  0xA897;\n",
    "        channel_cnt_table[7] =  0xA8DE;\n",
    "        channel_cnt_table[8] =  0xA925;\n",
    "        channel_cnt_table[9] =  0xA96D;\n",
    "        channel_cnt_table[10] = 0xA9B4;\n",
    "        channel_cnt_table[11] = 0xA9FB;\n",
    "        channel_cnt_table[12] = 0xAA42;\n",
    "        channel_cnt_table[13] = 0xAA89;\n",
    "        channel_cnt_table[14] = 0xAAD0;\n",
    "        channel_cnt_table[15] = 0xAB17;\n",
    "        channel_cnt_table[16] = 0xAB5E;\n",
    "        channel_cnt_table[17] = 0xABA5;\n",
    "        channel_cnt_table[18] = 0xABEC;\n",
    "        channel_cnt_table[19] = 0xAC34;\n",
    "        channel_cnt_table[20] = 0xAC7B;\n",
    "        \n",
    "        channel_cnt_range[0] = 0xA6A2;\n",
    "        channel_cnt_range[1] = 0xA6E2;\n",
    "        channel_cnt_range[2] = 0xACE2; \n",
    "        \n",
    "        fcal_div = 0xad5;  \n",
    "        \n",
    "        rx_notch_para[0][0] = 0; \n",
    "        rx_notch_para[1][0] = 0;\n",
    "        rx_notch_para[2][0] = 0;\n",
    "        rx_notch_para[3][0] = 0;\n",
    "        rx_notch_para[4][0] = 0;\n",
    "        rx_notch_para[5][0] = 1;\n",
    "        rx_notch_para[6][0] = 1; \n",
    "        rx_notch_para[7][0] = 1; \n",
    "        rx_notch_para[8][0] = 1;\n",
    "        rx_notch_para[9][0] = 0;\n",
    "        rx_notch_para[10][0] = 0;\n",
    "        rx_notch_para[11][0] = 0;\n",
    "        rx_notch_para[12][0] = 0;\n",
    "        rx_notch_para[13][0] = 0; \n",
    "        rx_notch_para[0][1] = 0 *1000*1000; \n",
    "        rx_notch_para[1][1] = 0 *1000*1000;\n",
    "        rx_notch_para[2][1] = 0 *1000*1000;\n",
    "        rx_notch_para[3][1] = 0 *1000*1000;\n",
    "        rx_notch_para[4][1] = 0 *1000*1000;\n",
    "        rx_notch_para[5][1] = 7 *1000*1000;\n",
    "        rx_notch_para[6][1] = 2 *1000*1000; \n",
    "        rx_notch_para[7][1] = -3 *1000*1000; \n",
    "        rx_notch_para[8][1] = -8 *1000*1000;\n",
    "        rx_notch_para[9][1] = 0 *1000*1000;\n",
    "        rx_notch_para[10][1] = 0 *1000*1000;\n",
    "        rx_notch_para[11][1] = 0 *1000*1000;\n",
    "        rx_notch_para[12][1] = 0 *1000*1000;\n",
    "        rx_notch_para[13][1] = 0 *1000*1000; "
   ]
  },
  {
   "cell_type": "code",
   "execution_count": 88,
   "metadata": {},
   "outputs": [
    {
     "name": "stdout",
     "output_type": "stream",
     "text": [
      "static uint32_t channel_div_table_52M[21] = {\n",
      "    0xf690690, 0xf6f96f9, 0xf762762, 0xf7cb7cb, 0xf834835, 0xf89d89e, 0xf906907, 0xf96f970, 0xf9d89d9, 0xfa41a42, 0xfaaaaab, 0xfb13b14, 0xfb7cb7d, 0xfbe5be6, 0xfc4ec4f, 0xfcb7cb8, 0xfd20d21, 0xfd89d8a, 0xfdf2df3, 0xfe5be5c, 0xfec4ec5\n",
      "};\n",
      "static uint16_t channel_cnt_table_52M[21] = {\n",
      "    0xa6ed, 0xa734, 0xa77b, 0xa7c2, 0xa809, 0xa850, 0xa897, 0xa8de, 0xa925, 0xa96d, 0xa9b4, 0xa9fb, 0xaa42, 0xaa89, 0xaad0, 0xab17, 0xab5e, 0xaba5, 0xabec, 0xac34, 0xac7b\n",
      "};\n",
      "static uint16_t channel_cnt_range_52M[21] = {\n",
      "    0xa6a2, 0xa6e2, 0xace2\n",
      "};\n",
      "static int32_t rx_notch_para_52M[14][2] = {\n",
      "    {0, 0}, {0, 0}, {0, 0}, {0, 0}, {0, 0}, {1, 7000000}, {1, 2000000}, {1, -3000000}, {1, -8000000}, {0, 0}, {0, 0}, {0, 0}, {0, 0}, {0, 0}\n",
      "};\n",
      "static uint16_t fcal_div_52M = 2773;\n"
     ]
    }
   ],
   "source": [
    "get_array(\"52M\")"
   ]
  },
  {
   "cell_type": "code",
   "execution_count": 2,
   "metadata": {},
   "outputs": [],
   "source": [
    " s = \"\"\"00000000 01000000 07000000 1b000000  \n",
    " 20000000 fcffffff e6000000 00000000 \n",
    " 01000000 07000000 1b000000 20000000 \n",
    " f8ffffff dc000000 00000000 01000000 \n",
    " 07000000 14000000 20000000 fcffffff \n",
    " d2000000 00000000 01000000 07000000 \n",
    " 14000000 20000000 f8ffffff c8000000 \n",
    " 00000000 01000000 07000000 0f000000 \n",
    " 20000000 fcffffff be000000 00000000 \n",
    " 01000000 07000000 0f000000 20000000 \n",
    " f8ffffff b4000000 00000000 01000000 \n",
    " 07000000 0b000000 20000000 fcffffff \n",
    " aa000000 00000000 01000000 07000000 \n",
    " 0b000000 20000000 f8ffffff a0000000 \n",
    " 00000000 01000000 06000000 0a000000 \n",
    " 20000000 fcffffff 96000000 00000000 \n",
    " 01000000 06000000 0a000000 20000000 \n",
    " f8ffffff 8c000000 00000000 01000000 \n",
    " 06000000 08000000 20000000 fbffffff \n",
    " 82000000 00000000 01000000 06000000 \n",
    " 08000000 20000000 f7ffffff 78000000 \n",
    " 00000000 01000000 05000000 07000000 \n",
    " 20000000 fcffffff 6e000000 00000000 \n",
    " 01000000 05000000 07000000 20000000 \n",
    " f8ffffff 64000000 00000000 01000000 \n",
    " 04000000 07000000 20000000 fbffffff \n",
    " 5a000000 00000000 01000000 04000000 \n",
    " 07000000 20000000 f7ffffff 50000000\"\"\""
   ]
  },
  {
   "cell_type": "code",
   "execution_count": 9,
   "metadata": {},
   "outputs": [],
   "source": [
    "ints = s.replace(\"\\n\", \"\").replace(\"  \", \" \").split(\" \")"
   ]
  },
  {
   "cell_type": "code",
   "execution_count": 33,
   "metadata": {},
   "outputs": [],
   "source": [
    "data = [int.from_bytes(bytearray.fromhex(i), byteorder='little') for i in ints]\n",
    "data = [ -0x100000000 + i if i & 0x80000000 else i for i in data]"
   ]
  },
  {
   "cell_type": "code",
   "execution_count": 34,
   "metadata": {},
   "outputs": [
    {
     "data": {
      "text/plain": [
       "array([[  0,   1,   7,  27,  32,  -4, 230],\n",
       "       [  0,   1,   7,  27,  32,  -8, 220],\n",
       "       [  0,   1,   7,  20,  32,  -4, 210],\n",
       "       [  0,   1,   7,  20,  32,  -8, 200],\n",
       "       [  0,   1,   7,  15,  32,  -4, 190],\n",
       "       [  0,   1,   7,  15,  32,  -8, 180],\n",
       "       [  0,   1,   7,  11,  32,  -4, 170],\n",
       "       [  0,   1,   7,  11,  32,  -8, 160],\n",
       "       [  0,   1,   6,  10,  32,  -4, 150],\n",
       "       [  0,   1,   6,  10,  32,  -8, 140],\n",
       "       [  0,   1,   6,   8,  32,  -5, 130],\n",
       "       [  0,   1,   6,   8,  32,  -9, 120],\n",
       "       [  0,   1,   5,   7,  32,  -4, 110],\n",
       "       [  0,   1,   5,   7,  32,  -8, 100],\n",
       "       [  0,   1,   4,   7,  32,  -5,  90],\n",
       "       [  0,   1,   4,   7,  32,  -9,  80]])"
      ]
     },
     "execution_count": 34,
     "metadata": {},
     "output_type": "execute_result"
    }
   ],
   "source": [
    "na = np.array(data)\n",
    "na.reshape(16,7)"
   ]
  },
  {
   "cell_type": "code",
   "execution_count": null,
   "metadata": {},
   "outputs": [],
   "source": []
  }
 ],
 "metadata": {
  "interpreter": {
   "hash": "767d51c1340bd893661ea55ea3124f6de3c7a262a8b4abca0554b478b1e2ff90"
  },
  "kernelspec": {
   "display_name": "Python 2.7.17 64-bit",
   "name": "python3"
  },
  "language_info": {
   "codemirror_mode": {
    "name": "ipython",
    "version": 3
   },
   "file_extension": ".py",
   "mimetype": "text/x-python",
   "name": "python",
   "nbconvert_exporter": "python",
   "pygments_lexer": "ipython3",
   "version": "2.7.17"
  },
  "orig_nbformat": 4
 },
 "nbformat": 4,
 "nbformat_minor": 2
}
